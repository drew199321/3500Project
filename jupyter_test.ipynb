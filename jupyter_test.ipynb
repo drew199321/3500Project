{
 "cells": [
  {
   "cell_type": "markdown",
   "metadata": {},
   "source": [
    "3500 Project"
   ]
  },
  {
   "cell_type": "code",
   "execution_count": 3,
   "metadata": {},
   "outputs": [
    {
     "name": "stdout",
     "output_type": "stream",
     "text": [
      "                                          id         datetime  \\\n",
      "0       424553bb-7174-41ea-aeb4-fe06d4f4b9d7  12/16/2018 9:30   \n",
      "1       4bd23055-6827-41c6-b23b-3c491f24e74d  11/27/2018 2:00   \n",
      "2       981a3613-77af-4620-a42a-0c0866077d1e  11/28/2018 1:00   \n",
      "3       c2d88af2-d278-4bfd-a8d0-29ca77cc5512  11/30/2018 4:53   \n",
      "4       e0126e1f-8ca9-4f2e-82b3-50505a09db9a  11/29/2018 3:49   \n",
      "...                                      ...              ...   \n",
      "693066  616d3611-1820-450a-9845-a9ff304a4842  12/1/2018 23:53   \n",
      "693067  633a3fc3-1f86-4b9e-9d48-2b7132112341  12/1/2018 23:53   \n",
      "693068  64d451d0-639f-47a4-9b7c-6fd92fbd264f  12/1/2018 23:53   \n",
      "693069  727e5f07-a96b-4ad1-a2c7-9abc3ad55b4e  12/1/2018 23:53   \n",
      "693070  e7fdc087-fe86-40a5-a3c3-3b2a8badcbda  12/1/2018 23:53   \n",
      "\n",
      "                timezone cab_type                            product_id  \\\n",
      "0       America/New_York     Lyft                             lyft_line   \n",
      "1       America/New_York     Lyft                          lyft_premier   \n",
      "2       America/New_York     Lyft                                  lyft   \n",
      "3       America/New_York     Lyft                           lyft_luxsuv   \n",
      "4       America/New_York     Lyft                             lyft_plus   \n",
      "...                  ...      ...                                   ...   \n",
      "693066  America/New_York     Uber  6f72dfc5-27f1-42e8-84db-ccc7a75f6969   \n",
      "693067  America/New_York     Uber  55c66225-fbe7-4fd5-9072-eab1ece5e23e   \n",
      "693068  America/New_York     Uber  8cf7e821-f0d3-49c6-8eba-e679c0ebcf6a   \n",
      "693069  America/New_York     Uber  6d318bcc-22a3-4af6-bddd-b409bfce1546   \n",
      "693070  America/New_York     Uber  997acbb5-e102-41e1-b155-9df7de0a73f2   \n",
      "\n",
      "        price  distance  humidity  windSpeed  windGust  windGustTime  \\\n",
      "0         5.0      0.44      0.68       8.66      9.17    1545015600   \n",
      "1        11.0      0.44      0.94      11.98     11.98    1543291200   \n",
      "2         7.0      0.44      0.75       7.33      7.33    1543334400   \n",
      "3        26.0      0.44      0.73       5.28      5.28    1543514400   \n",
      "4         9.0      0.44      0.70       9.14      9.14    1543446000   \n",
      "...       ...       ...       ...        ...       ...           ...   \n",
      "693066   13.0      1.00      0.74       2.34      2.87    1543672800   \n",
      "693067    9.5      1.00      0.74       2.34      2.87    1543672800   \n",
      "693068    NaN      1.00      0.74       2.34      2.87    1543672800   \n",
      "693069   27.0      1.00      0.74       2.34      2.87    1543672800   \n",
      "693070   10.0      1.00      0.74       2.34      2.87    1543672800   \n",
      "\n",
      "        visibility  temperatureHigh  \n",
      "0           10.000            43.68  \n",
      "1            4.786            47.30  \n",
      "2           10.000            47.55  \n",
      "3           10.000            45.03  \n",
      "4           10.000            42.18  \n",
      "...            ...              ...  \n",
      "693066       9.785            44.76  \n",
      "693067       9.785            44.76  \n",
      "693068       9.785            44.76  \n",
      "693069       9.785            44.76  \n",
      "693070       9.785            44.76  \n",
      "\n",
      "[693071 rows x 13 columns]\n"
     ]
    }
   ],
   "source": [
    "import csv\n",
    "import pandas as pd\n",
    "\n",
    "\n",
    "# Dataset = pd.read_csv(\"./Datasets/InputDataSample.csv\")\n",
    "Dataset = pd.read_csv(\"./Datasets/Boston_Lyft_Uber_Data.csv\")\n",
    "\n",
    "print(Dataset)"
   ]
  }
 ],
 "metadata": {
  "interpreter": {
   "hash": "32c847f99806af02c3e9ded43dd3656777e279db03d6fb5e93eb46f61e1a4d8e"
  },
  "kernelspec": {
   "display_name": "Python 3.9.0 64-bit",
   "language": "python",
   "name": "python3"
  },
  "language_info": {
   "codemirror_mode": {
    "name": "ipython",
    "version": 3
   },
   "file_extension": ".py",
   "mimetype": "text/x-python",
   "name": "python",
   "nbconvert_exporter": "python",
   "pygments_lexer": "ipython3",
   "version": "3.9.0"
  },
  "orig_nbformat": 4
 },
 "nbformat": 4,
 "nbformat_minor": 2
}
